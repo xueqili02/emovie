{
 "cells":[
  {
   "cell_type":"code",
   "source":[
    "import pandas as pd\n",
    "import json\n",
    "import ast"
   ],
   "execution_count":14,
   "outputs":[
    
   ],
   "metadata":{
    "datalore":{
     "node_id":"z9AhpkQLblWVGYR7kRjxsW",
     "type":"CODE",
     "hide_input_from_viewers":false,
     "hide_output_from_viewers":false,
     "report_properties":{
      "rowId":"qHr7aq1be9GQzymLHYE9af"
     }
    }
   }
  },
  {
   "cell_type":"code",
   "source":[
    "# df = pd.read_csv(\"\/data\/notebook_files\/New folder\/movies_metadata.csv\", low_memory=False)\n",
    "# df.head()"
   ],
   "execution_count":15,
   "outputs":[
    
   ],
   "metadata":{
    "datalore":{
     "node_id":"fBlTAEWZ4uuzjvkThsdNsc",
     "type":"CODE",
     "hide_input_from_viewers":false,
     "hide_output_from_viewers":false,
     "report_properties":{
      "rowId":"mX30l4IJG6OoiLaJJ31XYc"
     }
    }
   }
  },
  {
   "cell_type":"code",
   "source":[
    "# df1 = df[[\"id\",\"budget\",\"original_language\",\"original_title\",\"overview\",\"popularity\",\"release_date\",\"revenue\",\"runtime\",\"title\",\"vote_average\",\"vote_count\"]]\n",
    "# df1.to_csv(\"movies.csv\",index = 0, header = 0)\n",
    "# df1.shape"
   ],
   "execution_count":16,
   "outputs":[
    
   ],
   "metadata":{
    "datalore":{
     "node_id":"GkskXKleclR1VKWEiocn5e",
     "type":"CODE",
     "hide_input_from_viewers":false,
     "hide_output_from_viewers":false,
     "report_properties":{
      "rowId":"Mh4a46fFxXpxDPjyEjyUig"
     }
    }
   }
  },
  {
   "cell_type":"code",
   "source":[
    "\n",
    "# df1 = df[[\"id\",\"genres\"]]\n",
    "# df2 = pd.DataFrame(columns=['mid','gid','gname'])         \n",
    "# for index in df1.index:\n",
    "#     mid =  df1[\"id\"][index]\n",
    "#     lis = df1[\"genres\"][index]\n",
    "#     ans = ast.literal_eval(lis)\n",
    "#     for a in ans:\n",
    "#         data = {'mid': mid, 'gid': a['id'], 'gname':a['name']}\n",
    "#         df2 = df2.append(data, ignore_index=True)\n",
    "#         # print(data)\n",
    "#         # print(df2)\n",
    "# df2\n",
    "\n",
    "  \n",
    "\n",
    "\n",
    "        "
   ],
   "execution_count":17,
   "outputs":[
    
   ],
   "metadata":{
    "datalore":{
     "node_id":"txe0HP4cqQLiKI8Dq2dLr8",
     "type":"CODE",
     "hide_input_from_viewers":false,
     "hide_output_from_viewers":false,
     "report_properties":{
      "rowId":"X71OpZpea1NVYow5Ibnydk"
     }
    }
   }
  },
  {
   "cell_type":"code",
   "source":[
    "# df2.to_csv(\"genres.csv\",index = 0, header = 0)"
   ],
   "execution_count":18,
   "outputs":[
    
   ],
   "metadata":{
    "datalore":{
     "node_id":"jtx9w7NPoP4ROqNKktsllG",
     "type":"CODE",
     "hide_input_from_viewers":false,
     "hide_output_from_viewers":false,
     "report_properties":{
      "rowId":"DJr362kRUfP1tuMfusVUnf"
     }
    }
   }
  },
  {
   "cell_type":"code",
   "source":[
    "# dfg = pd.read_csv(\"\/data\/notebook_files\/genres.csv\")\n",
    "# dfg.head()\n",
    "# dfgen = dfg[[\"16\",\"Animation\"]]\n",
    "\n",
    "# dfgen.to_csv(\"gentab.csv\",index = 0, header = 0)"
   ],
   "execution_count":19,
   "outputs":[
    
   ],
   "metadata":{
    "datalore":{
     "node_id":"T6S1Vnd9X3GFcFfsxexyVP",
     "type":"CODE",
     "hide_input_from_viewers":false,
     "hide_output_from_viewers":false,
     "report_properties":{
      "rowId":"c4SombjzrQfwXwByrLtwxt"
     }
    }
   }
  },
  {
   "cell_type":"code",
   "source":[
    "\n",
    "# dfgen = dfg[[\"862\",\"16\"]]\n",
    "# dfgen.to_csv(\"gmtab.csv\",index = 0, header = 0)"
   ],
   "execution_count":20,
   "outputs":[
    
   ],
   "metadata":{
    "datalore":{
     "node_id":"cLxWzc6W2ibpm8tzFdAOmR",
     "type":"CODE",
     "hide_input_from_viewers":false,
     "hide_output_from_viewers":false,
     "report_properties":{
      "rowId":"19sstHGlzwRPposuW0PFoS"
     }
    }
   }
  },
  {
   "cell_type":"code",
   "source":[
    "# df3 = pd.read_csv(\"\/data\/notebook_files\/New folder\/keywords.csv\")\n",
    "# df3.head()"
   ],
   "execution_count":21,
   "outputs":[
    
   ],
   "metadata":{
    "datalore":{
     "node_id":"E9daz7JIM7ovmW80We9fRk",
     "type":"CODE",
     "hide_input_from_viewers":false,
     "hide_output_from_viewers":false,
     "report_properties":{
      "rowId":"9sLjIcKWqymCBm5V7Bgry8"
     }
    }
   }
  },
  {
   "cell_type":"code",
   "source":[
    "df4 = pd.DataFrame(columns=['mid','kid','kname'])  "
   ],
   "execution_count":22,
   "outputs":[
    
   ],
   "metadata":{
    "datalore":{
     "node_id":"3lEIjprAWqxmjopu0fvd9S",
     "type":"CODE",
     "hide_input_from_viewers":false,
     "hide_output_from_viewers":false,
     "report_properties":{
      "rowId":"IzbadaWkOJN2FBUN9UwJK1"
     }
    }
   }
  },
  {
   "cell_type":"code",
   "source":[
    "# for index in df3.index:\n",
    "#     print(index)\n",
    "#     mid =  df3[\"id\"][index]\n",
    "#     lis = df3[\"keywords\"][index]\n",
    "#     ans = ast.literal_eval(lis)\n",
    "#     for a in ans:\n",
    "#         data = {'mid': mid, 'kid': a['id'], 'kname':a['name']}\n",
    "#         df4 = df4.append(data, ignore_index=True)\n",
    "        "
   ],
   "execution_count":23,
   "outputs":[
    
   ],
   "metadata":{
    "datalore":{
     "node_id":"RRGY6Wg5HPGpAF1o3DTp5K",
     "type":"CODE",
     "hide_input_from_viewers":false,
     "hide_output_from_viewers":false,
     "report_properties":{
      "rowId":"NDQrPlp1K0ptUNuAocxhX1"
     }
    }
   }
  },
  {
   "cell_type":"code",
   "source":[
    "# df4.to_csv(\"keytab.csv\",index = 0, header = 0)"
   ],
   "execution_count":24,
   "outputs":[
    
   ],
   "metadata":{
    "datalore":{
     "node_id":"AtfV4xYIf5ESUQPhrx2V4A",
     "type":"CODE",
     "hide_input_from_viewers":false,
     "hide_output_from_viewers":false,
     "report_properties":{
      "rowId":"WOXmHZv8YpHW5BDo2oLRuC"
     }
    }
   }
  },
  {
   "cell_type":"code",
   "source":[
    "# df5 = pd.read_csv(\"\/data\/notebook_files\/keytab.csv\")\n",
    "# df5.head()"
   ],
   "execution_count":25,
   "outputs":[
    {
     "data":{
      "text\/html":[
       "<div>\n",
       "<style scoped>\n",
       "    .dataframe tbody tr th:only-of-type {\n",
       "        vertical-align: middle;\n",
       "    }\n",
       "\n",
       "    .dataframe tbody tr th {\n",
       "        vertical-align: top;\n",
       "    }\n",
       "\n",
       "    .dataframe thead th {\n",
       "        text-align: right;\n",
       "    }\n",
       "<\/style>\n",
       "<table border=\"1\" class=\"dataframe\">\n",
       "  <thead>\n",
       "    <tr style=\"text-align: right;\">\n",
       "      <th><\/th>\n",
       "      <th>862<\/th>\n",
       "      <th>931<\/th>\n",
       "      <th>jealousy<\/th>\n",
       "    <\/tr>\n",
       "  <\/thead>\n",
       "  <tbody>\n",
       "    <tr>\n",
       "      <th>0<\/th>\n",
       "      <td>862<\/td>\n",
       "      <td>4290<\/td>\n",
       "      <td>toy<\/td>\n",
       "    <\/tr>\n",
       "    <tr>\n",
       "      <th>1<\/th>\n",
       "      <td>862<\/td>\n",
       "      <td>5202<\/td>\n",
       "      <td>boy<\/td>\n",
       "    <\/tr>\n",
       "    <tr>\n",
       "      <th>2<\/th>\n",
       "      <td>862<\/td>\n",
       "      <td>6054<\/td>\n",
       "      <td>friendship<\/td>\n",
       "    <\/tr>\n",
       "    <tr>\n",
       "      <th>3<\/th>\n",
       "      <td>862<\/td>\n",
       "      <td>9713<\/td>\n",
       "      <td>friends<\/td>\n",
       "    <\/tr>\n",
       "    <tr>\n",
       "      <th>4<\/th>\n",
       "      <td>862<\/td>\n",
       "      <td>9823<\/td>\n",
       "      <td>rivalry<\/td>\n",
       "    <\/tr>\n",
       "  <\/tbody>\n",
       "<\/table>\n",
       "<\/div>"
      ]
     },
     "metadata":{
      
     },
     "output_type":"display_data"
    }
   ],
   "metadata":{
    "datalore":{
     "node_id":"Ym0iIUARJtQo2iEwDbx5al",
     "type":"CODE",
     "hide_input_from_viewers":false,
     "hide_output_from_viewers":false,
     "report_properties":{
      "rowId":"rQ9HNid7ofzjHeQ7oWI8up"
     }
    }
   }
  },
  {
   "cell_type":"code",
   "source":[
    "# dfg = df5\n",
    "# dfg.head()\n",
    "# dfgen = dfg[[\"931\",\"jealousy\"]]\n",
    "\n",
    "# dfgen.to_csv(\"keyin.csv\",index = 0, header = 0)"
   ],
   "execution_count":26,
   "outputs":[
    
   ],
   "metadata":{
    "datalore":{
     "node_id":"CzPWY69KRjFfpBhHtLaOdy",
     "type":"CODE",
     "hide_input_from_viewers":false,
     "hide_output_from_viewers":false,
     "report_properties":{
      "rowId":"mU8dwdcpTJWmImhceJjVYj"
     }
    }
   }
  },
  {
   "cell_type":"code",
   "source":[
    "# dfg = df5\n",
    "# dfg.head()\n",
    "# dfgen = dfg[[\"862\",\"931\"]]\n",
    "\n",
    "# dfgen.to_csv(\"ikey.csv\",index = 0, header = 0)"
   ],
   "execution_count":27,
   "outputs":[
    
   ],
   "metadata":{
    "datalore":{
     "node_id":"rPJ9SHI7ddPO41vJ02YgHB",
     "type":"CODE",
     "hide_input_from_viewers":false,
     "hide_output_from_viewers":false,
     "report_properties":{
      "rowId":"FSymShaJMQpvsu1Uhwvc03"
     }
    }
   }
  },
  {
   "cell_type":"code",
   "source":[
    
   ],
   "execution_count":null,
   "outputs":[
    
   ],
   "metadata":{
    "datalore":{
     "node_id":"scV4btLmOzevGNf5qv7L4J",
     "type":"CODE",
     "hide_input_from_viewers":true,
     "hide_output_from_viewers":true
    }
   }
  },
  {
   "cell_type":"code",
   "source":[
    
   ],
   "execution_count":null,
   "outputs":[
    
   ],
   "metadata":{
    "datalore":{
     "node_id":"P96aOOft7lVh8nrdc0r93z",
     "type":"CODE",
     "hide_input_from_viewers":true,
     "hide_output_from_viewers":true
    }
   }
  }
 ],
 "metadata":{
  "kernelspec":{
   "display_name":"Python",
   "language":"python",
   "name":"python"
  },
  "datalore":{
   "computation_mode":"JUPYTER",
   "package_manager":"pip",
   "base_environment":"default",
   "packages":[
    
   ],
   "report_row_ids":[
    "qHr7aq1be9GQzymLHYE9af",
    "mX30l4IJG6OoiLaJJ31XYc",
    "Mh4a46fFxXpxDPjyEjyUig",
    "X71OpZpea1NVYow5Ibnydk",
    "DJr362kRUfP1tuMfusVUnf",
    "c4SombjzrQfwXwByrLtwxt",
    "19sstHGlzwRPposuW0PFoS",
    "9sLjIcKWqymCBm5V7Bgry8",
    "IzbadaWkOJN2FBUN9UwJK1",
    "NDQrPlp1K0ptUNuAocxhX1",
    "WOXmHZv8YpHW5BDo2oLRuC",
    "rQ9HNid7ofzjHeQ7oWI8up",
    "mU8dwdcpTJWmImhceJjVYj",
    "FSymShaJMQpvsu1Uhwvc03"
   ],
   "version":2
  }
 },
 "nbformat":4,
 "nbformat_minor":4
}